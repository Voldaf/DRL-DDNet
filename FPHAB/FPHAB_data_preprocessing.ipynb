{
 "cells": [
  {
   "cell_type": "code",
   "execution_count": 4,
   "metadata": {},
   "outputs": [],
   "source": [
    "import numpy as np\n",
    "from tqdm import tqdm\n",
    "import matplotlib.pyplot as plt\n",
    "from scipy.signal import medfilt\n",
    "import pickle\n"
   ]
  },
  {
   "cell_type": "code",
   "execution_count": 5,
   "metadata": {},
   "outputs": [],
   "source": [
    "class Config():\n",
    "    def __init__(self):        \n",
    "        self.frame_l = 32 # the length of frames\n",
    "        self.joint_n = 22 # the number of joints\n",
    "        self.joint_d = 3 # the dimension of classes        \n",
    "        self.data_dir = '/media/l/data/HRC/HRC_intention_recognition/code/DD-Net-master/FPHAB/'\n",
    "        self.save_dir = '/media/l/data/HRC/HRC_intention_recognition/code/DD-Net-master/data/FPHAB/'\n",
    "\n",
    "C = Config()"
   ]
  },
  {
   "cell_type": "code",
   "execution_count": 3,
   "metadata": {},
   "outputs": [
    {
     "name": "stderr",
     "output_type": "stream",
     "text": [
      "100%|██████████| 600/600 [00:01<00:00, 302.42it/s]\n"
     ]
    }
   ],
   "source": [
    "Train = {}\n",
    "Train['pose'] = []\n",
    "Train['label'] = []\n",
    "train_filename = []  \n",
    "\n",
    "with open(C.data_dir +'datasets_scripts/F_PHAB/paper_tables_annotations/label_perc_splits/1_1_split0_annotations_train.txt','r') as f: \n",
    "    for line in f:\n",
    "        filename_train, label = line.split()\n",
    "        label = int(label)\n",
    "        train_filename.append(filename_train)\n",
    "        Train['label'].append(label)\n",
    "for i in tqdm(range(len(train_filename))):\n",
    "    skeleton = np.loadtxt(C.data_dir + '{}'.format(train_filename[i].replace('./', '/')) ).astype('float32')  #位置\n",
    "    Train['pose'].append(skeleton) "
   ]
  },
  {
   "cell_type": "code",
   "execution_count": 5,
   "metadata": {},
   "outputs": [],
   "source": [
    "pickle.dump(Train, open(C.save_dir+\"train.pkl\", \"wb\"))"
   ]
  },
  {
   "cell_type": "code",
   "execution_count": 6,
   "metadata": {
    "scrolled": true
   },
   "outputs": [
    {
     "name": "stderr",
     "output_type": "stream",
     "text": [
      "100%|██████████| 575/575 [00:01<00:00, 290.72it/s]\n"
     ]
    }
   ],
   "source": [
    "Test = {}\n",
    "Test['pose'] = []\n",
    "Test['label'] = []\n",
    "test_filename = []\n",
    "\n",
    "with open(C.data_dir +'datasets_scripts/F_PHAB/paper_tables_annotations/label_perc_splits/1_1_split0_annotations_val.txt','r') as f: \n",
    "    for lines in f:\n",
    "        filename_test, label = lines.split()\n",
    "        label = int(label)\n",
    "        test_filename.append(filename_test)\n",
    "        Test['label'].append(label)\n",
    "for i in tqdm(range(len(test_filename))):\n",
    "    skeleton = np.loadtxt(C.data_dir + '{}'.format(test_filename[i].replace('./', '/')) ).astype('float32')  #位置\n",
    "    Test['pose'].append(skeleton) "
   ]
  },
  {
   "cell_type": "code",
   "execution_count": 7,
   "metadata": {},
   "outputs": [],
   "source": [
    "pickle.dump(Test, open(C.save_dir+\"test.pkl\", \"wb\"))"
   ]
  },
  {
   "cell_type": "code",
   "execution_count": 8,
   "metadata": {},
   "outputs": [],
   "source": [
    "Test = pickle.load(open(C.save_dir+\"test.pkl\", \"rb\"))"
   ]
  },
  {
   "cell_type": "code",
   "execution_count": 11,
   "metadata": {},
   "outputs": [
    {
     "name": "stderr",
     "output_type": "stream",
     "text": [
      "100%|██████████| 990/990 [00:03<00:00, 299.24it/s]\n",
      "100%|██████████| 185/185 [00:00<00:00, 293.13it/s]\n"
     ]
    }
   ],
   "source": [
    "Train = {}\n",
    "Train['pose'] = []\n",
    "Train['label'] = []\n",
    "train_filename = []  \n",
    "\n",
    "with open(C.data_dir +'datasets_scripts/F_PHAB/paper_tables_annotations/label_perc_splits/cross_subj_split0_annotations_train.txt','r') as f: \n",
    "    for line in f:\n",
    "        filename_train, label = line.split()\n",
    "        label = int(label)\n",
    "        train_filename.append(filename_train)\n",
    "        Train['label'].append(label)\n",
    "for i in tqdm(range(len(train_filename))):\n",
    "    skeleton = np.loadtxt(C.data_dir + '{}'.format(train_filename[i].replace('./', '/')) ).astype('float32')  #位置\n",
    "    Train['pose'].append(skeleton) \n",
    "    \n",
    "pickle.dump(Train, open(C.save_dir+\"train_cs0.pkl\", \"wb\"))\n",
    "Test = {}\n",
    "Test['pose'] = []\n",
    "Test['label'] = []\n",
    "test_filename = []\n",
    "\n",
    "with open(C.data_dir +'datasets_scripts/F_PHAB/paper_tables_annotations/label_perc_splits/cross_subj_split0_annotations_val.txt','r') as f: \n",
    "    for lines in f:\n",
    "        filename_test, label = lines.split()\n",
    "        label = int(label)\n",
    "        test_filename.append(filename_test)\n",
    "        Test['label'].append(label)\n",
    "for i in tqdm(range(len(test_filename))):\n",
    "    skeleton = np.loadtxt(C.data_dir + '{}'.format(test_filename[i].replace('./', '/')) ).astype('float32')  #位置\n",
    "    Test['pose'].append(skeleton)\n",
    "pickle.dump(Test, open(C.save_dir+\"test_cs0.pkl\", \"wb\"))"
   ]
  },
  {
   "cell_type": "code",
   "execution_count": 12,
   "metadata": {},
   "outputs": [
    {
     "name": "stderr",
     "output_type": "stream",
     "text": [
      "100%|██████████| 783/783 [00:02<00:00, 283.32it/s]\n",
      "100%|██████████| 392/392 [00:01<00:00, 274.51it/s]\n"
     ]
    }
   ],
   "source": [
    "Train = {}\n",
    "Train['pose'] = []\n",
    "Train['label'] = []\n",
    "train_filename = []  \n",
    "\n",
    "with open(C.data_dir +'datasets_scripts/F_PHAB/paper_tables_annotations/label_perc_splits/3_1_split0_annotations_train.txt','r') as f: \n",
    "    for line in f:\n",
    "        filename_train, label = line.split()\n",
    "        label = int(label)\n",
    "        train_filename.append(filename_train)\n",
    "        Train['label'].append(label)\n",
    "for i in tqdm(range(len(train_filename))):\n",
    "    skeleton = np.loadtxt(C.data_dir + '{}'.format(train_filename[i].replace('./', '/')) ).astype('float32')  #位置\n",
    "    Train['pose'].append(skeleton) \n",
    "    \n",
    "pickle.dump(Train, open(C.save_dir+\"train_310.pkl\", \"wb\"))\n",
    "Test = {}\n",
    "Test['pose'] = []\n",
    "Test['label'] = []\n",
    "test_filename = []\n",
    "\n",
    "with open(C.data_dir +'datasets_scripts/F_PHAB/paper_tables_annotations/label_perc_splits/3_1_split0_annotations_val.txt','r') as f: \n",
    "    for lines in f:\n",
    "        filename_test, label = lines.split()\n",
    "        label = int(label)\n",
    "        test_filename.append(filename_test)\n",
    "        Test['label'].append(label)\n",
    "for i in tqdm(range(len(test_filename))):\n",
    "    skeleton = np.loadtxt(C.data_dir + '{}'.format(test_filename[i].replace('./', '/')) ).astype('float32')  #位置\n",
    "    Test['pose'].append(skeleton)\n",
    "pickle.dump(Test, open(C.save_dir+\"test_310.pkl\", \"wb\"))"
   ]
  },
  {
   "cell_type": "code",
   "execution_count": null,
   "metadata": {},
   "outputs": [],
   "source": []
  },
  {
   "cell_type": "code",
   "execution_count": null,
   "metadata": {},
   "outputs": [],
   "source": []
  }
 ],
 "metadata": {
  "kernelspec": {
   "display_name": "Python 3",
   "language": "python",
   "name": "python3"
  },
  "language_info": {
   "codemirror_mode": {
    "name": "ipython",
    "version": 3
   },
   "file_extension": ".py",
   "mimetype": "text/x-python",
   "name": "python",
   "nbconvert_exporter": "python",
   "pygments_lexer": "ipython3",
   "version": "3.8.5"
  }
 },
 "nbformat": 4,
 "nbformat_minor": 2
}
